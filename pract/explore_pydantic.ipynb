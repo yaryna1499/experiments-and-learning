{
 "cells": [
  {
   "cell_type": "markdown",
   "metadata": {},
   "source": [
    "Field() and StringConstraints()"
   ]
  },
  {
   "cell_type": "code",
   "execution_count": 1,
   "metadata": {},
   "outputs": [],
   "source": [
    "from typing import Annotated\n",
    "from pydantic import BaseModel, Field, StringConstraints, StrictStr, EmailStr"
   ]
  },
  {
   "cell_type": "code",
   "execution_count": 2,
   "metadata": {},
   "outputs": [
    {
     "name": "stdout",
     "output_type": "stream",
     "text": [
      "Requirement already satisfied: pydantic[email] in /home/yaryna/miniconda3/envs/general_env/lib/python3.11/site-packages (2.10.6)\n",
      "Requirement already satisfied: annotated-types>=0.6.0 in /home/yaryna/miniconda3/envs/general_env/lib/python3.11/site-packages (from pydantic[email]) (0.7.0)\n",
      "Requirement already satisfied: pydantic-core==2.27.2 in /home/yaryna/miniconda3/envs/general_env/lib/python3.11/site-packages (from pydantic[email]) (2.27.2)\n",
      "Requirement already satisfied: typing-extensions>=4.12.2 in /home/yaryna/miniconda3/envs/general_env/lib/python3.11/site-packages (from pydantic[email]) (4.12.2)\n",
      "Requirement already satisfied: email-validator>=2.0.0 in /home/yaryna/miniconda3/envs/general_env/lib/python3.11/site-packages (from pydantic[email]) (2.2.0)\n",
      "Requirement already satisfied: dnspython>=2.0.0 in /home/yaryna/miniconda3/envs/general_env/lib/python3.11/site-packages (from email-validator>=2.0.0->pydantic[email]) (2.7.0)\n",
      "Requirement already satisfied: idna>=2.0.0 in /home/yaryna/miniconda3/envs/general_env/lib/python3.11/site-packages (from email-validator>=2.0.0->pydantic[email]) (3.7)\n"
     ]
    }
   ],
   "source": [
    "!pip install pydantic[email]"
   ]
  },
  {
   "cell_type": "code",
   "execution_count": 3,
   "metadata": {},
   "outputs": [],
   "source": [
    "NonEmptyList = Annotated[list[StrictStr], Field(..., min_length=1), StringConstraints(min_length=3)]\n",
    "StrippedString = Annotated[StrictStr, StringConstraints(strip_whitespace=True)]"
   ]
  },
  {
   "cell_type": "code",
   "execution_count": 4,
   "metadata": {},
   "outputs": [],
   "source": [
    "class ValidationTst(BaseModel):\n",
    "    variable: NonEmptyList = None\n",
    "    var: StrippedString = Field(repr=False)"
   ]
  },
  {
   "cell_type": "code",
   "execution_count": 5,
   "metadata": {},
   "outputs": [
    {
     "data": {
      "text/plain": [
       "''"
      ]
     },
     "execution_count": 5,
     "metadata": {},
     "output_type": "execute_result"
    }
   ],
   "source": [
    "model = ValidationTst(var=\"      \")\n",
    "model.var"
   ]
  },
  {
   "cell_type": "code",
   "execution_count": 6,
   "metadata": {},
   "outputs": [],
   "source": [
    "LowerAlphaNumericStr = Annotated[StrictStr, StringConstraints(pattern=r\"^[a-z0-9_]+$\")]\n",
    "SlackNameField = Annotated[str, StringConstraints(pattern=r\"^[#@][a-z0-9_]+$\")]"
   ]
  },
  {
   "cell_type": "code",
   "execution_count": 7,
   "metadata": {},
   "outputs": [
    {
     "ename": "ValidationError",
     "evalue": "1 validation error for ValidationTst2\nname\n  String should match pattern '^[#@][a-z0-9_]+$' [type=string_pattern_mismatch, input_value='#', input_type=str]\n    For further information visit https://errors.pydantic.dev/2.10/v/string_pattern_mismatch",
     "output_type": "error",
     "traceback": [
      "\u001b[0;31m---------------------------------------------------------------------------\u001b[0m",
      "\u001b[0;31mValidationError\u001b[0m                           Traceback (most recent call last)",
      "Cell \u001b[0;32mIn[7], line 4\u001b[0m\n\u001b[1;32m      1\u001b[0m \u001b[38;5;28;01mclass\u001b[39;00m \u001b[38;5;21;01mValidationTst2\u001b[39;00m(BaseModel):\n\u001b[1;32m      2\u001b[0m     name: SlackNameField\n\u001b[0;32m----> 4\u001b[0m model \u001b[38;5;241m=\u001b[39m \u001b[43mValidationTst2\u001b[49m\u001b[43m(\u001b[49m\u001b[43mname\u001b[49m\u001b[38;5;241;43m=\u001b[39;49m\u001b[38;5;124;43m\"\u001b[39;49m\u001b[38;5;124;43m#\u001b[39;49m\u001b[38;5;124;43m\"\u001b[39;49m\u001b[43m)\u001b[49m\n",
      "File \u001b[0;32m~/miniconda3/envs/general_env/lib/python3.11/site-packages/pydantic/main.py:214\u001b[0m, in \u001b[0;36mBaseModel.__init__\u001b[0;34m(self, **data)\u001b[0m\n\u001b[1;32m    212\u001b[0m \u001b[38;5;66;03m# `__tracebackhide__` tells pytest and some other tools to omit this function from tracebacks\u001b[39;00m\n\u001b[1;32m    213\u001b[0m __tracebackhide__ \u001b[38;5;241m=\u001b[39m \u001b[38;5;28;01mTrue\u001b[39;00m\n\u001b[0;32m--> 214\u001b[0m validated_self \u001b[38;5;241m=\u001b[39m \u001b[38;5;28;43mself\u001b[39;49m\u001b[38;5;241;43m.\u001b[39;49m\u001b[43m__pydantic_validator__\u001b[49m\u001b[38;5;241;43m.\u001b[39;49m\u001b[43mvalidate_python\u001b[49m\u001b[43m(\u001b[49m\u001b[43mdata\u001b[49m\u001b[43m,\u001b[49m\u001b[43m \u001b[49m\u001b[43mself_instance\u001b[49m\u001b[38;5;241;43m=\u001b[39;49m\u001b[38;5;28;43mself\u001b[39;49m\u001b[43m)\u001b[49m\n\u001b[1;32m    215\u001b[0m \u001b[38;5;28;01mif\u001b[39;00m \u001b[38;5;28mself\u001b[39m \u001b[38;5;129;01mis\u001b[39;00m \u001b[38;5;129;01mnot\u001b[39;00m validated_self:\n\u001b[1;32m    216\u001b[0m     warnings\u001b[38;5;241m.\u001b[39mwarn(\n\u001b[1;32m    217\u001b[0m         \u001b[38;5;124m'\u001b[39m\u001b[38;5;124mA custom validator is returning a value other than `self`.\u001b[39m\u001b[38;5;130;01m\\n\u001b[39;00m\u001b[38;5;124m'\u001b[39m\n\u001b[1;32m    218\u001b[0m         \u001b[38;5;124m\"\u001b[39m\u001b[38;5;124mReturning anything other than `self` from a top level model validator isn\u001b[39m\u001b[38;5;124m'\u001b[39m\u001b[38;5;124mt supported when validating via `__init__`.\u001b[39m\u001b[38;5;130;01m\\n\u001b[39;00m\u001b[38;5;124m\"\u001b[39m\n\u001b[1;32m    219\u001b[0m         \u001b[38;5;124m'\u001b[39m\u001b[38;5;124mSee the `model_validator` docs (https://docs.pydantic.dev/latest/concepts/validators/#model-validators) for more details.\u001b[39m\u001b[38;5;124m'\u001b[39m,\n\u001b[1;32m    220\u001b[0m         stacklevel\u001b[38;5;241m=\u001b[39m\u001b[38;5;241m2\u001b[39m,\n\u001b[1;32m    221\u001b[0m     )\n",
      "\u001b[0;31mValidationError\u001b[0m: 1 validation error for ValidationTst2\nname\n  String should match pattern '^[#@][a-z0-9_]+$' [type=string_pattern_mismatch, input_value='#', input_type=str]\n    For further information visit https://errors.pydantic.dev/2.10/v/string_pattern_mismatch"
     ]
    }
   ],
   "source": [
    "class ValidationTst2(BaseModel):\n",
    "    name: SlackNameField\n",
    "\n",
    "model = ValidationTst2(name=\"#\")"
   ]
  },
  {
   "cell_type": "code",
   "execution_count": 11,
   "metadata": {},
   "outputs": [],
   "source": [
    "Str2 = Annotated[StrictStr, StringConstraints(max_length=2)]\n",
    "LowerEmailStr = Annotated[Str2, EmailStr, StringConstraints(to_lower=True, max_length=2)]"
   ]
  },
  {
   "cell_type": "code",
   "execution_count": 12,
   "metadata": {},
   "outputs": [],
   "source": [
    "class Hello(BaseModel):\n",
    "    e: LowerEmailStr"
   ]
  },
  {
   "cell_type": "code",
   "execution_count": 14,
   "metadata": {},
   "outputs": [
    {
     "ename": "ValidationError",
     "evalue": "1 validation error for Hello\ne\n  value is not a valid email address: An email address must have an @-sign. [type=value_error, input_value='', input_type=str]",
     "output_type": "error",
     "traceback": [
      "\u001b[0;31m---------------------------------------------------------------------------\u001b[0m",
      "\u001b[0;31mValidationError\u001b[0m                           Traceback (most recent call last)",
      "Cell \u001b[0;32mIn[14], line 1\u001b[0m\n\u001b[0;32m----> 1\u001b[0m \u001b[43mHello\u001b[49m\u001b[43m(\u001b[49m\u001b[43me\u001b[49m\u001b[38;5;241;43m=\u001b[39;49m\u001b[38;5;124;43m\"\u001b[39;49m\u001b[38;5;124;43m\"\u001b[39;49m\u001b[43m)\u001b[49m\n",
      "File \u001b[0;32m~/miniconda3/envs/general_env/lib/python3.11/site-packages/pydantic/main.py:214\u001b[0m, in \u001b[0;36mBaseModel.__init__\u001b[0;34m(self, **data)\u001b[0m\n\u001b[1;32m    212\u001b[0m \u001b[38;5;66;03m# `__tracebackhide__` tells pytest and some other tools to omit this function from tracebacks\u001b[39;00m\n\u001b[1;32m    213\u001b[0m __tracebackhide__ \u001b[38;5;241m=\u001b[39m \u001b[38;5;28;01mTrue\u001b[39;00m\n\u001b[0;32m--> 214\u001b[0m validated_self \u001b[38;5;241m=\u001b[39m \u001b[38;5;28;43mself\u001b[39;49m\u001b[38;5;241;43m.\u001b[39;49m\u001b[43m__pydantic_validator__\u001b[49m\u001b[38;5;241;43m.\u001b[39;49m\u001b[43mvalidate_python\u001b[49m\u001b[43m(\u001b[49m\u001b[43mdata\u001b[49m\u001b[43m,\u001b[49m\u001b[43m \u001b[49m\u001b[43mself_instance\u001b[49m\u001b[38;5;241;43m=\u001b[39;49m\u001b[38;5;28;43mself\u001b[39;49m\u001b[43m)\u001b[49m\n\u001b[1;32m    215\u001b[0m \u001b[38;5;28;01mif\u001b[39;00m \u001b[38;5;28mself\u001b[39m \u001b[38;5;129;01mis\u001b[39;00m \u001b[38;5;129;01mnot\u001b[39;00m validated_self:\n\u001b[1;32m    216\u001b[0m     warnings\u001b[38;5;241m.\u001b[39mwarn(\n\u001b[1;32m    217\u001b[0m         \u001b[38;5;124m'\u001b[39m\u001b[38;5;124mA custom validator is returning a value other than `self`.\u001b[39m\u001b[38;5;130;01m\\n\u001b[39;00m\u001b[38;5;124m'\u001b[39m\n\u001b[1;32m    218\u001b[0m         \u001b[38;5;124m\"\u001b[39m\u001b[38;5;124mReturning anything other than `self` from a top level model validator isn\u001b[39m\u001b[38;5;124m'\u001b[39m\u001b[38;5;124mt supported when validating via `__init__`.\u001b[39m\u001b[38;5;130;01m\\n\u001b[39;00m\u001b[38;5;124m\"\u001b[39m\n\u001b[1;32m    219\u001b[0m         \u001b[38;5;124m'\u001b[39m\u001b[38;5;124mSee the `model_validator` docs (https://docs.pydantic.dev/latest/concepts/validators/#model-validators) for more details.\u001b[39m\u001b[38;5;124m'\u001b[39m,\n\u001b[1;32m    220\u001b[0m         stacklevel\u001b[38;5;241m=\u001b[39m\u001b[38;5;241m2\u001b[39m,\n\u001b[1;32m    221\u001b[0m     )\n",
      "\u001b[0;31mValidationError\u001b[0m: 1 validation error for Hello\ne\n  value is not a valid email address: An email address must have an @-sign. [type=value_error, input_value='', input_type=str]"
     ]
    }
   ],
   "source": [
    "Hello(e=\"\")"
   ]
  },
  {
   "cell_type": "code",
   "execution_count": null,
   "metadata": {},
   "outputs": [],
   "source": [
    "class Comp(BaseModel):\n",
    "    c1: int\n",
    "class DataOrder(BaseModel):\n",
    "    c: list[Comp]"
   ]
  },
  {
   "cell_type": "code",
   "execution_count": null,
   "metadata": {},
   "outputs": [],
   "source": [
    "d1 = DataOrder(c=[Comp(c1=1)])\n",
    "d2 = {\"c\": [{\"c1\": 23}]}"
   ]
  },
  {
   "cell_type": "code",
   "execution_count": null,
   "metadata": {},
   "outputs": [],
   "source": [
    "t1 = DataOrder.model_construct(**d1.model_dump())\n",
    "t1"
   ]
  },
  {
   "cell_type": "code",
   "execution_count": null,
   "metadata": {},
   "outputs": [],
   "source": [
    "t2 = DataOrder.model_construct(**d2)\n",
    "t2"
   ]
  },
  {
   "cell_type": "code",
   "execution_count": null,
   "metadata": {},
   "outputs": [],
   "source": [
    "from typing import Annotated\n",
    "from decimal import Decimal\n",
    "NonNegativeDecimal = Annotated[Decimal, Field(ge=0, decimal_places=2, allow_inf_nan=False)]"
   ]
  },
  {
   "cell_type": "code",
   "execution_count": null,
   "metadata": {},
   "outputs": [],
   "source": [
    "class Cost(BaseModel):\n",
    "    value: NonNegativeDecimal"
   ]
  },
  {
   "cell_type": "code",
   "execution_count": null,
   "metadata": {},
   "outputs": [],
   "source": [
    "Cost(value=23.98)"
   ]
  },
  {
   "cell_type": "code",
   "execution_count": null,
   "metadata": {},
   "outputs": [],
   "source": [
    "import math\n",
    "def round_to_base(num: Decimal | float, base: int) -> int:\n",
    "    \"\"\"\n",
    "    Returns a number ceil-rounded to a multiple of provided base\n",
    "\n",
    "    :param num: the number to round\n",
    "    :param base: the base to round to\n",
    "    :return: the rounded number\n",
    "\n",
    "    >>> round_to_base(61, 4)\n",
    "    64\n",
    "    >>> round_to_base(3.5, 1)\n",
    "    4\n",
    "    >>> round_to_base(3, 10)\n",
    "    10\n",
    "    \"\"\"\n",
    "    assert base > 0\n",
    "    return base * math.ceil(num / base)"
   ]
  },
  {
   "cell_type": "code",
   "execution_count": null,
   "metadata": {},
   "outputs": [],
   "source": [
    "round_to_base(1, 0.01)"
   ]
  },
  {
   "cell_type": "code",
   "execution_count": null,
   "metadata": {},
   "outputs": [],
   "source": [
    "!pip install -U pydantic"
   ]
  },
  {
   "cell_type": "code",
   "execution_count": null,
   "metadata": {},
   "outputs": [
    {
     "data": {
      "text/plain": [
       "'{\"test\": {\"1\": {\"name\": \"Y\", \"id\": 1}}}'"
      ]
     },
     "execution_count": 37,
     "metadata": {},
     "output_type": "execute_result"
    }
   ],
   "source": [
    "from pydantic import BaseModel, AfterValidator\n",
    "from typing import Annotated\n",
    "import json\n",
    "\n",
    "\n",
    "class User(BaseModel):\n",
    "    name: str\n",
    "    id: int\n",
    "\n",
    "class Test(BaseModel):\n",
    "    user: dict[str, Annotated[User, AfterValidator(lambda m: m.model_dump())]]\n",
    "\n",
    "\n",
    "u = User(id=1, name=\"Y\")\n",
    "t = Test(user={\"1\": u})\n",
    "d = {\"test\": t.user}\n",
    "json.dumps(d)"
   ]
  },
  {
   "cell_type": "code",
   "execution_count": 15,
   "metadata": {},
   "outputs": [
    {
     "data": {
      "text/plain": [
       "{'lst': ['A', 'B'], 'lst2': ['C', 'D']}"
      ]
     },
     "execution_count": 15,
     "metadata": {},
     "output_type": "execute_result"
    }
   ],
   "source": [
    "from pydantic import AfterValidator, StringConstraints\n",
    "\n",
    "UpperStr = Annotated[str, AfterValidator(lambda v: v.upper())]\n",
    "UpperStr2 = Annotated[str, StringConstraints(to_upper=True)]\n",
    "class TestClass(BaseModel):\n",
    "    lst: list[UpperStr] | None = None\n",
    "    lst2: list[UpperStr2] | None = None\n",
    "\n",
    "TestClass(lst=[\"a\", \"b\"], lst2=[\"c\", \"d\"]).model_dump()"
   ]
  },
  {
   "cell_type": "code",
   "execution_count": 1,
   "metadata": {},
   "outputs": [
    {
     "name": "stdout",
     "output_type": "stream",
     "text": [
      "John Doe\n",
      "30\n",
      "name='John Doe' age=30\n"
     ]
    }
   ],
   "source": [
    "from pydantic import BaseModel\n",
    "\n",
    "class User(BaseModel):\n",
    "    name: str = \"John Doe\"  # Explicit default value\n",
    "    age: int = 30\n",
    "\n",
    "user = User()  # No arguments provided, uses default values\n",
    "print(user.name)  # Output: John Doe\n",
    "print(user.age)   # Output: 30\n",
    "print(user)       # Output: name='John Doe' age=30"
   ]
  },
  {
   "cell_type": "code",
   "execution_count": 8,
   "metadata": {},
   "outputs": [
    {
     "data": {
      "text/plain": [
       "ComputeInstanceOut(instance_id=1, teams=[])"
      ]
     },
     "execution_count": 8,
     "metadata": {},
     "output_type": "execute_result"
    }
   ],
   "source": [
    "from typing import Optional, List, Any\n",
    "from pydantic import BaseModel, ConfigDict\n",
    "\n",
    "class ComputeInstanceOut(BaseModel):\n",
    "    instance_id: int\n",
    "    teams: Optional[List[Any]] = None\n",
    "\n",
    "    model_config = ConfigDict(from_attributes=True)\n",
    "\n",
    "class CI:\n",
    "    def __init__(self, id):\n",
    "        self.instance_id = id\n",
    "        self.teams = []\n",
    "\n",
    "c = CI(1)\n",
    "ComputeInstanceOut.model_validate(c)"
   ]
  },
  {
   "cell_type": "code",
   "execution_count": 16,
   "metadata": {},
   "outputs": [
    {
     "name": "stdout",
     "output_type": "stream",
     "text": [
      "Без selectinload очікувано впало: ValidationError - 1 validation error for UserSchema\n",
      "teams\n",
      "  Error extracting attribute: MissingGreenlet: greenlet_spawn has not been called; can't call await_only() here. Was IO attempted in an unexpected place? (Background on this error at: https://sqlalche.me/e/20/xd2s) [type=get_attribute_error, input_value=<__main__.User object at 0x7d0ee619f8d0>, input_type=User]\n",
      "    For further information visit https://errors.pydantic.dev/2.10/v/get_attribute_error\n"
     ]
    }
   ],
   "source": [
    "# ✅ ПРАЦЮЮЧИЙ ПРИКЛАД: async SQLAlchemy + Pydantic v2 + many-to-many (User ↔ Team)\n",
    "import asyncio\n",
    "from typing import List\n",
    "\n",
    "from sqlalchemy import ForeignKey, Table, Column, Integer, String, select\n",
    "from sqlalchemy.ext.asyncio import create_async_engine, async_sessionmaker, AsyncSession\n",
    "from sqlalchemy.orm import DeclarativeBase, Mapped, mapped_column, relationship, selectinload\n",
    "\n",
    "from pydantic import BaseModel, ConfigDict, Field, field_validator\n",
    "\n",
    "\n",
    "# ---------- SQLAlchemy models ----------\n",
    "class Base(DeclarativeBase):\n",
    "    pass\n",
    "\n",
    "# Association table з FK\n",
    "user_teams = Table(\n",
    "    \"user_teams\",\n",
    "    Base.metadata,\n",
    "    Column(\"user_id\", ForeignKey(\"users.id\"), primary_key=True),\n",
    "    Column(\"team_id\", ForeignKey(\"teams.id\"), primary_key=True),\n",
    ")\n",
    "\n",
    "class Team(Base):\n",
    "    __tablename__ = \"teams\"\n",
    "    id: Mapped[int] = mapped_column(Integer, primary_key=True)\n",
    "    name: Mapped[str] = mapped_column(String, nullable=False)\n",
    "\n",
    "    users: Mapped[List[\"User\"]] = relationship(\n",
    "        secondary=user_teams,\n",
    "        back_populates=\"teams\",\n",
    "        lazy=\"raise\",  # 👈 не дозволяємо неявний lazy в async — краще впасти, ніж ловити MissingGreenlet\n",
    "    )\n",
    "\n",
    "class User(Base):\n",
    "    __tablename__ = \"users\"\n",
    "    id: Mapped[int] = mapped_column(Integer, primary_key=True)\n",
    "    name: Mapped[str] = mapped_column(String, nullable=False)\n",
    "\n",
    "    teams: Mapped[List[Team]] = relationship(\n",
    "        secondary=user_teams,\n",
    "        back_populates=\"users\",\n",
    "    )\n",
    "\n",
    "\n",
    "# ---------- Pydantic schemas ----------\n",
    "class TeamSchema(BaseModel):\n",
    "    id: int\n",
    "    name: str\n",
    "    model_config = ConfigDict(from_attributes=True)\n",
    "\n",
    "class UserSchema(BaseModel):\n",
    "    id: int\n",
    "    name: str\n",
    "    # завжди повертай список (навіть якщо немає зв’язків)\n",
    "    teams: List[TeamSchema] = Field(default_factory=list)\n",
    "\n",
    "    # якщо раптом прийде None (залежно від твоєї логіки) — перетвори на []\n",
    "    @field_validator(\"teams\", mode=\"before\")\n",
    "    @classmethod\n",
    "    def none_to_empty_list(cls, v):\n",
    "        return [] if v is None else v\n",
    "\n",
    "    model_config = ConfigDict(from_attributes=True)\n",
    "\n",
    "\n",
    "# ---------- Async demo ----------\n",
    "async def main():\n",
    "    engine = create_async_engine(\"sqlite+aiosqlite:///:memory:\", echo=False)\n",
    "    Session = async_sessionmaker(engine, expire_on_commit=False)\n",
    "\n",
    "    async with engine.begin() as conn:\n",
    "        await conn.run_sync(Base.metadata.create_all)\n",
    "\n",
    "    async with Session() as session:\n",
    "        # seed\n",
    "        devops = Team(name=\"DevOps\")\n",
    "        ml = Team(name=\"ML\")\n",
    "        user = User(name=\"Yaryna\", teams=[devops])  # одна команда є, інша ні\n",
    "        session.add_all([user, ml])\n",
    "        await session.commit()\n",
    "\n",
    "    # --- 1) Без selectinload: спроба звернутись до .teams викличе помилку (бо lazy=\"raise\")\n",
    "    async with Session() as session:\n",
    "        u = await session.scalar(select(User))  # teams НЕ завантажено\n",
    "        try:\n",
    "            _ = UserSchema.model_validate(u)  # тут Pydantic торкнеться .teams -> впаде (і це добре)\n",
    "        except Exception as e:\n",
    "            print(\"Без selectinload очікувано впало:\", type(e).__name__, \"-\", e)\n",
    "\n",
    "\n",
    "# У Jupyter / IPython:\n",
    "await main()"
   ]
  },
  {
   "cell_type": "code",
   "execution_count": 11,
   "metadata": {},
   "outputs": [
    {
     "name": "stdout",
     "output_type": "stream",
     "text": [
      "Collecting aiosqlite\n",
      "  Downloading aiosqlite-0.21.0-py3-none-any.whl.metadata (4.3 kB)\n",
      "Requirement already satisfied: typing_extensions>=4.0 in /home/yaryna/miniconda3/envs/general_env/lib/python3.11/site-packages (from aiosqlite) (4.12.2)\n",
      "Downloading aiosqlite-0.21.0-py3-none-any.whl (15 kB)\n",
      "Installing collected packages: aiosqlite\n",
      "Successfully installed aiosqlite-0.21.0\n"
     ]
    }
   ],
   "source": [
    "!pip install aiosqlite"
   ]
  }
 ],
 "metadata": {
  "kernelspec": {
   "display_name": "general_env",
   "language": "python",
   "name": "python3"
  },
  "language_info": {
   "codemirror_mode": {
    "name": "ipython",
    "version": 3
   },
   "file_extension": ".py",
   "mimetype": "text/x-python",
   "name": "python",
   "nbconvert_exporter": "python",
   "pygments_lexer": "ipython3",
   "version": "3.11.9"
  }
 },
 "nbformat": 4,
 "nbformat_minor": 2
}
