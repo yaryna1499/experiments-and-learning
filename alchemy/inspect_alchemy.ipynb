{
 "cells": [
  {
   "cell_type": "code",
   "execution_count": 46,
   "id": "32b20642",
   "metadata": {},
   "outputs": [],
   "source": [
    "from sqlalchemy.orm import DeclarativeBase, Mapped, mapped_column, relationship\n",
    "from sqlalchemy import Integer, String, DateTime, ForeignKey, ARRAY\n",
    "import datetime\n",
    "from typing import Annotated\n",
    "from enum import StrEnum\n",
    "\n",
    "str_256 = Annotated[str, mapped_column(String(256))]\n",
    "\n",
    "class UserRole(StrEnum):\n",
    "    \"\"\"Enumeration for user roles.\"\"\"\n",
    "    ADMIN = \"admin\"\n",
    "    USER = \"user\"\n",
    "\n",
    "class Base(DeclarativeBase):\n",
    "    pass\n",
    "\n",
    "\n",
    "class User(Base):\n",
    "    \"\"\"Represents a user in the system.\"\"\"\n",
    "    __tablename__ = \"users\"\n",
    "\n",
    "    id: Mapped[int] = mapped_column(primary_key=True, doc=\"Unique user identifier\")\n",
    "    username: Mapped[str] = mapped_column(String(50), unique=True, nullable=False, doc=\"Username of the user\")\n",
    "    email: Mapped[str] = mapped_column(String(100), unique=True, nullable=False, doc=\"User's email address\")\n",
    "    created_at: Mapped[datetime.datetime] = mapped_column(default=datetime.datetime.utcnow, doc=\"Datetime when the user was created\")\n",
    "    user_role: Mapped[UserRole] = mapped_column(server_default=UserRole.USER, doc=\"Role of the user in the system\")\n",
    "    posts: Mapped[list[\"Post\"]] = relationship(back_populates=\"author\", doc=\"List of posts created by the user\")\n",
    "\n",
    "\n",
    "class Post(Base):\n",
    "    __tablename__ = \"posts\"\n",
    "\n",
    "    id: Mapped[int] = mapped_column(primary_key=True, doc=\"Unique post identifier\")\n",
    "    title: Mapped[str] = mapped_column(String(100), nullable=False, doc=\"Title of the post\")\n",
    "    content: Mapped[str_256] = mapped_column(doc=\"Main content of the post\")\n",
    "    user_id: Mapped[int] = mapped_column(ForeignKey(\"users.id\"), doc=\"ID of the user who created the post\")\n",
    "    author: Mapped[\"User\"] = relationship(back_populates=\"posts\", doc=\"User who authored the post\")\n",
    "    test: Mapped[list[str]] = mapped_column(ARRAY(String), doc=\"Test field for demonstration purposes\")\n"
   ]
  },
  {
   "cell_type": "code",
   "execution_count": 47,
   "id": "f075a4ea",
   "metadata": {},
   "outputs": [],
   "source": [
    "User.__mapper__.c.get(\"h\", None)"
   ]
  },
  {
   "cell_type": "code",
   "execution_count": 48,
   "id": "805338df",
   "metadata": {},
   "outputs": [
    {
     "data": {
      "text/plain": [
       "'users'"
      ]
     },
     "execution_count": 48,
     "metadata": {},
     "output_type": "execute_result"
    }
   ],
   "source": [
    "User.__name__\n",
    "User.__doc__\n",
    "User.__tablename__"
   ]
  },
  {
   "cell_type": "code",
   "execution_count": 49,
   "id": "df469bbb",
   "metadata": {},
   "outputs": [
    {
     "name": "stdout",
     "output_type": "stream",
     "text": [
      "1\n",
      "1\n",
      "1\n"
     ]
    }
   ],
   "source": [
    "for con in User.__table__.constraints:\n",
    "    print(len(con.columns))"
   ]
  },
  {
   "cell_type": "code",
   "execution_count": 50,
   "id": "11251c18",
   "metadata": {},
   "outputs": [
    {
     "data": {
      "text/plain": [
       "defaultdict(set,\n",
       "            {'PrimaryKeyConstraint': {'id'},\n",
       "             'UniqueConstraint': {'email', 'username'}})"
      ]
     },
     "execution_count": 50,
     "metadata": {},
     "output_type": "execute_result"
    }
   ],
   "source": [
    "from collections import defaultdict\n",
    "constraints = defaultdict(set)\n",
    "for constraint in User.__table__.constraints:\n",
    "    for col in constraint.columns:\n",
    "        constraints[constraint.__class__.__name__].add(col.name)\n",
    "constraints"
   ]
  },
  {
   "cell_type": "code",
   "execution_count": 68,
   "id": "7ad032d0",
   "metadata": {},
   "outputs": [
    {
     "name": "stdout",
     "output_type": "stream",
     "text": [
      "Column: id, Type: INTEGER, Doc: Unique user identifier, Nullable: False, Primary Key: True, Foreign Key: set()\n",
      "Column: username, Type: VARCHAR(50), Doc: Username of the user, Nullable: False, Primary Key: False, Foreign Key: set()\n",
      "Column: email, Type: VARCHAR(100), Doc: User's email address, Nullable: False, Primary Key: False, Foreign Key: set()\n",
      "Column: created_at, Type: DATETIME, Doc: Datetime when the user was created, Nullable: False, Primary Key: False, Foreign Key: set()\n",
      "Column: user_role, Type: VARCHAR(5), Doc: Role of the user in the system, Nullable: False, Primary Key: False, Foreign Key: set()\n"
     ]
    }
   ],
   "source": [
    "columns_iterator = User.__table__.columns.__iter__()\n",
    "for column in columns_iterator:\n",
    "    print(f\"Column: {column.name}, Type: {column.type}, Doc: {column.doc}, Nullable: {column.nullable}, Primary Key: {column.primary_key}, Foreign Key: {column.foreign_keys}\")"
   ]
  },
  {
   "cell_type": "code",
   "execution_count": 52,
   "id": "7c5e6caa",
   "metadata": {},
   "outputs": [
    {
     "name": "stdout",
     "output_type": "stream",
     "text": [
      "'int'\n",
      "'str'\n",
      "'str'\n",
      "'datetime'\n",
      "'UserRole'\n"
     ]
    }
   ],
   "source": [
    "from sqlalchemy.orm import class_mapper\n",
    "from pprint import pprint\n",
    "mapper = class_mapper(User)\n",
    "for col in mapper.columns:\n",
    "    pprint(col.type.python_type.__name__)\n"
   ]
  },
  {
   "cell_type": "code",
   "execution_count": 53,
   "id": "ebc11efd",
   "metadata": {},
   "outputs": [
    {
     "name": "stdout",
     "output_type": "stream",
     "text": [
      "Relationship: posts, Mapper: Mapper[Post(posts)], Direction: RelationshipDirection.ONETOMANY, Doc: List of posts created by the user, Type: posts\n"
     ]
    }
   ],
   "source": [
    "for relationship in User.__mapper__.relationships:\n",
    "    print(f\"Relationship: {relationship.key}, Mapper: {relationship.mapper}, Direction: {relationship.direction}, Doc: {relationship.doc}, Type: {relationship.mapper.local_table}\")"
   ]
  },
  {
   "cell_type": "code",
   "execution_count": 54,
   "id": "93f3fdcd",
   "metadata": {},
   "outputs": [
    {
     "name": "stdout",
     "output_type": "stream",
     "text": [
      "['__annotations__', '__class__', '__class_getitem__', '__clause_element__', '__delattr__', '__dict__', '__dir__', '__doc__', '__eq__', '__format__', '__ge__', '__getattribute__', '__getstate__', '__gt__', '__hash__', '__init__', '__init_subclass__', '__le__', '__lt__', '__module__', '__ne__', '__new__', '__orig_bases__', '__parameters__', '__reduce__', '__reduce_ex__', '__repr__', '__setattr__', '__sizeof__', '__slots__', '__str__', '__subclasshook__', '__weakref__', '_acceptable_polymorphic_identities', '_adapt_inherited_property', '_add_with_polymorphic_subclass', '_all_column_expressions', '_all_pk_cols', '_all_tables', '_assert_no_memoizations', '_cache_key_traversal', '_canload', '_check_configure', '_clause_adapter', '_cols_by_table', '_columns_plus_keys', '_columntoproperty', '_compiled_cache', '_compiled_cache_size', '_configure_class_instrumentation', '_configure_failed', '_configure_inheritance', '_configure_pks', '_configure_polymorphic_setter', '_configure_properties', '_configure_property', '_dataclass_fields', '_delete_orphans', '_dependency_processors', '_dispose_called', '_equivalent_columns', '_expire_memoizations', '_filter_properties', '_gen_cache_key', '_generate_cache_attrs', '_generate_cache_key', '_generate_cache_key_for_object', '_get_clause', '_get_committed_attr_by_column', '_get_committed_state_attr_by_column', '_get_state_attr_by_column', '_has_aliased_polymorphic_fromclause', '_hierarchy_supports_caching', '_identity_class', '_identity_key_from_state', '_identity_key_props', '_inheriting_mappers', '_inherits_equated_pairs', '_init_properties', '_insert_cols_as_none', '_insert_cols_evaluating_none', '_is_has_cache_key', '_is_internal_proxy', '_is_orphan', '_is_protocol', '_is_subquery', '_is_userland_descriptor', '_iterate_polymorphic_properties', '_iterate_to_target_viawpoly', '_log', '_log_debug', '_log_desc', '_make_prop_from_column', '_mappers_from_spec', '_memo', '_memoized_keys', '_memoized_values', '_multiple_persistence_tables', '_optimized_get_statement', '_path_registry', '_persistent_sortkey_fn', '_pk_attr_keys_by_table', '_pk_keys_by_table', '_pk_synonyms', '_pks_by_table', '_polymorphic_adapter', '_polymorphic_attr_key', '_polymorphic_properties', '_post_configure_properties', '_post_inspect', '_prefer_eager_defaults', '_primary_key_argument', '_primary_key_propkeys', '_prop_set', '_property_from_column', '_propkey_to_col', '_props', '_readonly_props', '_ready_for_configure', '_reconcile_prop_with_incoming_columns', '_reconstructor', '_requires_row_aliasing', '_reset_memoizations', '_result_has_identity_key', '_role_name', '_select_iterable', '_selectable_from_mappers', '_server_default_col_keys', '_server_default_cols', '_server_default_plus_onupdate_propkeys', '_server_onupdate_default_col_keys', '_server_onupdate_default_cols', '_set_committed_state_attr_by_column', '_set_concrete_base', '_set_dispose_flags', '_set_memoized_attribute', '_set_polymorphic_identity', '_set_polymorphic_on', '_set_state_attr_by_column', '_set_with_polymorphic', '_should_exclude', '_should_log_debug', '_should_log_info', '_should_select_with_poly_adapter', '_should_selectin_load', '_should_undefer_in_wildcard', '_single_table_criterion', '_sort_key', '_sorted_tables', '_str_arg_to_mapped_col', '_subclass_load_via_in', '_subclass_load_via_in_mapper', '_table_to_equated', '_validate_polymorphic_identity', '_version_id_has_server_side_value', '_version_id_prop', '_with_polymorphic_args', '_with_polymorphic_mappers', '_with_polymorphic_selectable', '_would_selectin_load_only_from_given_mapper', '_would_selectinload_combinations_cache', 'add_properties', 'add_property', 'all_orm_descriptors', 'allow_partial_pks', 'allows_lambda', 'always_refresh', 'attrs', 'base_mapper', 'batch', 'c', 'cascade_iterator', 'class_', 'class_manager', 'column_attrs', 'column_prefix', 'columns', 'common_parent', 'composites', 'concrete', 'configured', 'confirm_deleted_rows', 'dispatch', 'eager_defaults', 'entity', 'entity_namespace', 'exclude_properties', 'extension_type', 'get_property', 'get_property_by_column', 'has_property', 'identity_key_from_instance', 'identity_key_from_primary_key', 'identity_key_from_row', 'include_properties', 'inherit_cache', 'inherit_condition', 'inherit_foreign_keys', 'inherits', 'is_aliased_class', 'is_attribute', 'is_bundle', 'is_clause_element', 'is_instance', 'is_mapper', 'is_property', 'is_selectable', 'is_sibling', 'isa', 'iterate_properties', 'iterate_to_root', 'legacy_is_orphan', 'local_table', 'logger', 'logging_name', 'mapped_table', 'mapper', 'memoized_attribute', 'memoized_instancemethod', 'non_primary', 'passive_deletes', 'passive_updates', 'persist_selectable', 'polymorphic_abstract', 'polymorphic_identity', 'polymorphic_iterator', 'polymorphic_load', 'polymorphic_map', 'polymorphic_on', 'primary_base_mapper', 'primary_key', 'primary_key_from_instance', 'primary_mapper', 'registry', 'relationships', 'represents_outer_join', 'select_identity_token', 'selectable', 'self_and_descendants', 'single', 'synonyms', 'tables', 'uses_inspection', 'validators', 'version_id_col', 'version_id_generator', 'with_polymorphic', 'with_polymorphic_mappers']\n"
     ]
    }
   ],
   "source": [
    "for relationship in User.__mapper__.relationships:\n",
    "    print(dir(relationship.mapper))\n",
    "    break"
   ]
  },
  {
   "cell_type": "code",
   "execution_count": 55,
   "id": "55876d90",
   "metadata": {},
   "outputs": [
    {
     "name": "stdout",
     "output_type": "stream",
     "text": [
      "Relationship: posts, Related class: Post\n"
     ]
    }
   ],
   "source": [
    "for relationship in User.__mapper__.relationships:\n",
    "    print(f\"Relationship: {relationship.key}, Related class: {relationship.mapper.class_.__name__}\")"
   ]
  },
  {
   "cell_type": "code",
   "execution_count": 56,
   "id": "fd9473df",
   "metadata": {},
   "outputs": [
    {
     "name": "stdout",
     "output_type": "stream",
     "text": [
      "Column: id, Python type: <class 'type'>, Doc: Unique user identifier, Nullable: False, Primary Key: True, Foreign Key: []\n",
      "Column: username, Python type: <class 'type'>, Doc: Username of the user, Nullable: False, Primary Key: False, Foreign Key: []\n",
      "Column: email, Python type: <class 'type'>, Doc: User's email address, Nullable: False, Primary Key: False, Foreign Key: []\n",
      "Column: created_at, Python type: <class 'type'>, Doc: Datetime when the user was created, Nullable: False, Primary Key: False, Foreign Key: []\n",
      "Column: user_role, Python type: <class 'enum.EnumType'>, Doc: Role of the user in the system, Nullable: False, Primary Key: False, Foreign Key: []\n"
     ]
    }
   ],
   "source": [
    "mapper = class_mapper(User)\n",
    "\n",
    "for column in mapper.columns:\n",
    "    python_type = column.type.python_type if hasattr(column.type, 'python_type') else column.type\n",
    "    print(f\"Column: {column.name}, Python type: {type(python_type)}, Doc: {column.doc}, \"\n",
    "            f\"Nullable: {column.nullable}, Primary Key: {column.primary_key}, \"\n",
    "            f\"Foreign Key: {[fk.column.table.name for fk in column.foreign_keys]}\")"
   ]
  },
  {
   "cell_type": "code",
   "execution_count": 57,
   "id": "4ffa0cc0",
   "metadata": {},
   "outputs": [
    {
     "name": "stdout",
     "output_type": "stream",
     "text": [
      "Foreign key 'ForeignKey('users.id')' refers to model: User\n"
     ]
    }
   ],
   "source": [
    "for column in Post.__table__.columns:\n",
    "    for fk in column.foreign_keys:\n",
    "        related_table = fk.column.table\n",
    "        # Find the model class for the related table\n",
    "        for cls in Base.__subclasses__():\n",
    "            if hasattr(cls, '__tablename__') and cls.__tablename__ == related_table.name:\n",
    "                print(f\"Foreign key '{fk}' refers to model: {cls.__name__}\")"
   ]
  },
  {
   "cell_type": "code",
   "execution_count": 58,
   "id": "8a9d4b4c",
   "metadata": {},
   "outputs": [
    {
     "data": {
      "text/plain": [
       "<enum 'RelationshipDirection'>"
      ]
     },
     "execution_count": 58,
     "metadata": {},
     "output_type": "execute_result"
    }
   ],
   "source": [
    "from sqlalchemy.orm import RelationshipDirection\n",
    "type(RelationshipDirection.MANYTOONE)  # This will return the type of the RelationshipDirection enum"
   ]
  },
  {
   "cell_type": "code",
   "execution_count": 59,
   "id": "d0ff1e58",
   "metadata": {},
   "outputs": [
    {
     "name": "stdout",
     "output_type": "stream",
     "text": [
      "ForeignKey('users.id')\n"
     ]
    }
   ],
   "source": [
    "from sqlalchemy.schema import ForeignKey\n",
    "f = ForeignKey('users.id')\n",
    "print(f)"
   ]
  },
  {
   "cell_type": "code",
   "execution_count": 60,
   "id": "d0b04b26",
   "metadata": {},
   "outputs": [
    {
     "data": {
      "text/plain": [
       "'None'"
      ]
     },
     "execution_count": 60,
     "metadata": {},
     "output_type": "execute_result"
    }
   ],
   "source": [
    "repr(Post.__doc__)"
   ]
  },
  {
   "cell_type": "code",
   "execution_count": 61,
   "id": "e501fde2",
   "metadata": {},
   "outputs": [],
   "source": [
    "def _get_model_name_by_table_name(self, table_name: str) -> str:\n",
    "    \"\"\"\n",
    "    Returns the model name based on the table name.\n",
    "    \"\"\"\n",
    "    base = next(self.model_class.__bases__)\n",
    "    for cls_ in base.__subclasses__():\n",
    "        if hasattr(cls_, \"__tablename__\") and cls_.__tablename__ == table_name:\n",
    "            return cls_.__name__\n",
    "    return \"UnknownModel\""
   ]
  },
  {
   "cell_type": "code",
   "execution_count": 62,
   "id": "1185db33",
   "metadata": {},
   "outputs": [
    {
     "data": {
      "text/plain": [
       "[__main__.User, __main__.Post]"
      ]
     },
     "execution_count": 62,
     "metadata": {},
     "output_type": "execute_result"
    }
   ],
   "source": [
    "base = Post.__bases__[0]\n",
    "base.__subclasses__()"
   ]
  },
  {
   "cell_type": "code",
   "execution_count": 63,
   "id": "2c66021b",
   "metadata": {},
   "outputs": [
    {
     "name": "stdout",
     "output_type": "stream",
     "text": [
      "User\n"
     ]
    }
   ],
   "source": [
    "for cls_ in base.__subclasses__():\n",
    "    if hasattr(cls_, \"__tablename__\") and cls_.__tablename__ == \"users\":\n",
    "        print(cls_.__name__)"
   ]
  },
  {
   "cell_type": "code",
   "execution_count": 64,
   "id": "bff585c4",
   "metadata": {},
   "outputs": [
    {
     "name": "stdout",
     "output_type": "stream",
     "text": [
      "Column: id, Python type: Int(), Doc: Unique user identifier, Nullable: False, Primary Key: True, Foreign Key: [] Default: None Unique: None\n",
      "Column: username, Python type: Str(50), Doc: Username of the user, Nullable: False, Primary Key: False, Foreign Key: [] Default: None Unique: True\n",
      "Column: email, Python type: Str(100), Doc: User's email address, Nullable: False, Primary Key: False, Foreign Key: [] Default: None Unique: True\n",
      "Column: created_at, Python type: Datetime(), Doc: Datetime when the user was created, Nullable: False, Primary Key: False, Foreign Key: [] Default: None Unique: None\n",
      "Column: user_role, Python type: Userrole(5), Doc: Role of the user in the system, Nullable: False, Primary Key: False, Foreign Key: [] Default: user Unique: None\n"
     ]
    }
   ],
   "source": [
    "mapper = class_mapper(User)\n",
    "\n",
    "for column in mapper.columns:\n",
    "    python_type = f\"{column.type.python_type.__name__.capitalize() if hasattr(column.type, 'python_type') else column.type}({column.type.length if hasattr(column.type, 'length') and column.type.length else ''})\"\n",
    "    print(f\"Column: {column.name}, Python type: {python_type}, Doc: {column.doc}, \"\n",
    "            f\"Nullable: {column.nullable}, Primary Key: {column.primary_key}, \"\n",
    "            f\"Foreign Key: {[fk.column.table.name for fk in column.foreign_keys]} \"\n",
    "            f\"Default: {column.server_default.arg if column.server_default else 'None'} \"\n",
    "            f\"Unique: {column.unique}\")"
   ]
  },
  {
   "cell_type": "code",
   "execution_count": 65,
   "id": "d45d901d",
   "metadata": {},
   "outputs": [
    {
     "data": {
      "text/plain": [
       "(__main__.Base,)"
      ]
     },
     "execution_count": 65,
     "metadata": {},
     "output_type": "execute_result"
    }
   ],
   "source": [
    "Post.__bases__"
   ]
  },
  {
   "cell_type": "code",
   "execution_count": 67,
   "id": "f979f3dc",
   "metadata": {},
   "outputs": [
    {
     "name": "stdout",
     "output_type": "stream",
     "text": [
      "<class 'int'>\n",
      "<class 'str'>\n",
      "<class 'str'>\n",
      "<class 'int'>\n",
      "<class 'list'>\n"
     ]
    }
   ],
   "source": [
    "mapper = class_mapper(Post)\n",
    "\n",
    "for column in mapper.columns:\n",
    "    print(column.type.python_type)"
   ]
  }
 ],
 "metadata": {
  "kernelspec": {
   "display_name": "general_env",
   "language": "python",
   "name": "python3"
  },
  "language_info": {
   "codemirror_mode": {
    "name": "ipython",
    "version": 3
   },
   "file_extension": ".py",
   "mimetype": "text/x-python",
   "name": "python",
   "nbconvert_exporter": "python",
   "pygments_lexer": "ipython3",
   "version": "3.11.9"
  }
 },
 "nbformat": 4,
 "nbformat_minor": 5
}
