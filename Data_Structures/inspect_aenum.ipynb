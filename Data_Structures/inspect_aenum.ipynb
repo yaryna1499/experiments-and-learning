{
 "cells": [
  {
   "cell_type": "code",
   "execution_count": 2,
   "id": "26de2244",
   "metadata": {},
   "outputs": [
    {
     "name": "stdout",
     "output_type": "stream",
     "text": [
      "Collecting aenum\n",
      "  Downloading aenum-3.1.16-py3-none-any.whl.metadata (3.8 kB)\n",
      "Downloading aenum-3.1.16-py3-none-any.whl (165 kB)\n",
      "\u001b[2K   \u001b[90m━━━━━━━━━━━━━━━━━━━━━━━━━━━━━━━━━━━━━━━━\u001b[0m \u001b[32m165.6/165.6 kB\u001b[0m \u001b[31m2.8 MB/s\u001b[0m eta \u001b[36m0:00:00\u001b[0m \u001b[36m0:00:01\u001b[0m\n",
      "\u001b[?25hInstalling collected packages: aenum\n",
      "Successfully installed aenum-3.1.16\n"
     ]
    }
   ],
   "source": [
    "!pip install aenum"
   ]
  },
  {
   "cell_type": "code",
   "execution_count": 6,
   "id": "5f2f17b8",
   "metadata": {},
   "outputs": [],
   "source": [
    "from aenum import StrEnum\n",
    "\n",
    "class Color(StrEnum):\n",
    "    \"\"\"A simple enumeration of colors.\"\"\"\n",
    "    _init_ = \"value __doc__\"\n",
    "    RED = \"red\", \"The color of fire and blood\"\n",
    "    GREEN = \"green\", \"The color of grass and leaves\"\n",
    "    BLUE = \"blue\", \"The color of the sky and sea\""
   ]
  },
  {
   "cell_type": "code",
   "execution_count": 12,
   "id": "c89d1dd5",
   "metadata": {},
   "outputs": [
    {
     "data": {
      "text/plain": [
       "True"
      ]
     },
     "execution_count": 12,
     "metadata": {},
     "output_type": "execute_result"
    }
   ],
   "source": [
    "issubclass(Color, StrEnum)"
   ]
  },
  {
   "cell_type": "code",
   "execution_count": 10,
   "id": "92d4d62b",
   "metadata": {},
   "outputs": [
    {
     "data": {
      "text/plain": [
       "'Color'"
      ]
     },
     "execution_count": 10,
     "metadata": {},
     "output_type": "execute_result"
    }
   ],
   "source": [
    "Color.__name__"
   ]
  },
  {
   "cell_type": "code",
   "execution_count": 7,
   "id": "bbda632b",
   "metadata": {},
   "outputs": [
    {
     "data": {
      "text/plain": [
       "'red'"
      ]
     },
     "execution_count": 7,
     "metadata": {},
     "output_type": "execute_result"
    }
   ],
   "source": [
    "Color.RED.value  # 'red'"
   ]
  },
  {
   "cell_type": "code",
   "execution_count": 8,
   "id": "665fe845",
   "metadata": {},
   "outputs": [
    {
     "data": {
      "text/plain": [
       "'The color of fire and blood'"
      ]
     },
     "execution_count": 8,
     "metadata": {},
     "output_type": "execute_result"
    }
   ],
   "source": [
    "Color.RED.__doc__"
   ]
  },
  {
   "cell_type": "code",
   "execution_count": 9,
   "id": "aacf60c0",
   "metadata": {},
   "outputs": [
    {
     "data": {
      "text/plain": [
       "'A simple enumeration of colors.'"
      ]
     },
     "execution_count": 9,
     "metadata": {},
     "output_type": "execute_result"
    }
   ],
   "source": [
    "Color.__doc__"
   ]
  },
  {
   "cell_type": "code",
   "execution_count": 13,
   "id": "e2753111",
   "metadata": {},
   "outputs": [
    {
     "data": {
      "text/plain": [
       "<Color.RED: 'red'>"
      ]
     },
     "execution_count": 13,
     "metadata": {},
     "output_type": "execute_result"
    }
   ],
   "source": [
    "Color.RED"
   ]
  }
 ],
 "metadata": {
  "kernelspec": {
   "display_name": "general_env",
   "language": "python",
   "name": "python3"
  },
  "language_info": {
   "codemirror_mode": {
    "name": "ipython",
    "version": 3
   },
   "file_extension": ".py",
   "mimetype": "text/x-python",
   "name": "python",
   "nbconvert_exporter": "python",
   "pygments_lexer": "ipython3",
   "version": "3.11.9"
  }
 },
 "nbformat": 4,
 "nbformat_minor": 5
}
