{
 "cells": [
  {
   "cell_type": "code",
   "execution_count": 9,
   "id": "47f2839d",
   "metadata": {},
   "outputs": [],
   "source": [
    "from enum import StrEnum\n",
    "from typing import Annotated, Any\n",
    "\n",
    "class DatasetStatus(StrEnum):\n",
    "    \"\"\"\n",
    "    Enumeration for dataset statuses\n",
    "    \"\"\"\n",
    "\n",
    "    COMING_SOON: Annotated[Any, \"This is a dataset that is not yet available but will be released soon.\"] = \"Coming Soon\"\n",
    "    AVAILABLE = \"Available\""
   ]
  },
  {
   "cell_type": "code",
   "execution_count": 14,
   "id": "f6e186bb",
   "metadata": {},
   "outputs": [
    {
     "data": {
      "text/plain": [
       "'COMING_SOON'"
      ]
     },
     "execution_count": 14,
     "metadata": {},
     "output_type": "execute_result"
    }
   ],
   "source": [
    "DatasetStatus.COMING_SOON.name"
   ]
  },
  {
   "cell_type": "code",
   "execution_count": 19,
   "id": "34f0f67c",
   "metadata": {},
   "outputs": [
    {
     "data": {
      "text/plain": [
       "('This is a dataset that is not yet available but will be released soon.',)"
      ]
     },
     "execution_count": 19,
     "metadata": {},
     "output_type": "execute_result"
    }
   ],
   "source": [
    "DatasetStatus.__annotations__.get(\"COMING_SOON\", None).__metadata__"
   ]
  }
 ],
 "metadata": {
  "kernelspec": {
   "display_name": "general_env",
   "language": "python",
   "name": "python3"
  },
  "language_info": {
   "codemirror_mode": {
    "name": "ipython",
    "version": 3
   },
   "file_extension": ".py",
   "mimetype": "text/x-python",
   "name": "python",
   "nbconvert_exporter": "python",
   "pygments_lexer": "ipython3",
   "version": "3.11.9"
  }
 },
 "nbformat": 4,
 "nbformat_minor": 5
}
